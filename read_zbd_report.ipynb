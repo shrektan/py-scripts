{
 "cells": [
  {
   "cell_type": "raw",
   "metadata": {},
   "source": [
    "---\n",
    "title: \"Read ZBD report\"\n",
    "format: html\n",
    "---"
   ]
  },
  {
   "cell_type": "code",
   "execution_count": 20,
   "metadata": {
    "notebookRunGroups": {
     "groupValue": ""
    }
   },
   "outputs": [],
   "source": [
    "import pathlib\n",
    "from PyPDF2 import PdfReader\n",
    "import pandas as pd\n",
    "import re\n",
    "import polars as pl\n",
    "import writexlsx as wx"
   ]
  },
  {
   "cell_type": "code",
   "execution_count": 21,
   "metadata": {},
   "outputs": [],
   "source": [
    "\n",
    "def rm_space(x: str) -> str:\n",
    "    \"\"\"remove unexpected space from table strings\n",
    "\n",
    "    Args:\n",
    "        x (str): the row string read from pdf\n",
    "\n",
    "    Returns:\n",
    "        str: the cleaned row string\n",
    "    \"\"\"\n",
    "    pattern = r\"(.+)(?=\\s\\d{8})\"\n",
    "    match = re.match(pattern, x)\n",
    "    if match is None:\n",
    "        return x\n",
    "    prod_name = match.group(0).replace(\" \", \"\")\n",
    "    return re.sub(pattern, prod_name, x)\n",
    "\n",
    "\n",
    "def rm_garbage(x: str) -> list[str]:\n",
    "    \"\"\"remove garbage letters\n",
    "\n",
    "    Args:\n",
    "        x (str): _description_\n",
    "\n",
    "    Returns:\n",
    "        list[str]: _description_\n",
    "    \"\"\"\n",
    "    garbage = ['½ö¹©°²Áª×Ê²ú²Î¿¼', 'NÅO\\x9b[\\x89\\x80T\\x8dDN§O\\x7fu(']\n",
    "    for elem in garbage:\n",
    "        x = x.replace(elem, \"\")\n",
    "    return x.strip().split(\"\\n\")\n",
    "\n",
    "def rate2num(x: pd.Series) -> list | pd.Series:\n",
    "    if not pd.api.types.is_string_dtype(x):\n",
    "        return x\n",
    "    out: list = []\n",
    "    for elem in x:\n",
    "        if pd.isna(elem) or elem == \"-\":\n",
    "            out.append(pd.NA)\n",
    "        elif elem.find(\"%\") > -1:\n",
    "            out.append(pd.to_numeric(elem.replace(\"%\", \"\")) / 100.0)\n",
    "        else:\n",
    "            out.append(pd.to_numeric(elem))\n",
    "    return out\n"
   ]
  },
  {
   "cell_type": "code",
   "execution_count": 22,
   "metadata": {},
   "outputs": [],
   "source": [
    "# pdf_path = pathlib.Path(\"/Users/shrektan/Library/CloudStorage/OneDrive-共享的库-onedrive/安联资管文档/监管和协会资料/组合类产品信息/保险资产管理产品行业报告（2022年12月）-组合行情.pdf\")\n",
    "\n",
    "\n",
    "def to_tbl(x: list[str]) -> pd.DataFrame:\n",
    "    txt = filter(lambda x: x.count(\" \") <=6 and x.count(\" \") >=3 and (x.find(\"公司\") != -1), x)\n",
    "    cols = [\n",
    "        \"序号\", \"管理机构名称\", \"产品只数\",\n",
    "        \"固定收益类\", \"混合类\", \"权益类\", \"合计\"\n",
    "    ]\n",
    "    return pd.DataFrame(map(lambda x: x.split(\" \"), txt), columns=cols)\n",
    "\n",
    "def read_tbl(pdf_path: pathlib.Path) -> pd.DataFrame:\n",
    "    \"\"\"read table from pdf\n",
    "\n",
    "    Args:\n",
    "        pdf_path (pathlib.Path): the path to the pdf file\n",
    "\n",
    "    Returns:\n",
    "        pd.DataFrame: the table\n",
    "    \"\"\"\n",
    "    p = PdfReader(pdf_path)\n",
    "    txt = p.pages[1].extract_text()\n",
    "    clean_txt = rm_garbage(rm_space(txt))\n",
    "    # print(clean_txt)\n",
    "    df = to_tbl(clean_txt)\n",
    "    df[\"产品只数\"] = rate2num(df[\"产品只数\"])\n",
    "    df[\"固定收益类\"] = rate2num(df[\"固定收益类\"])\n",
    "    df[\"混合类\"] = rate2num(df[\"混合类\"])\n",
    "    df[\"权益类\"] = rate2num(df[\"权益类\"])\n",
    "    df[\"合计\"] = rate2num(df[\"合计\"])\n",
    "    return df\n"
   ]
  },
  {
   "cell_type": "code",
   "execution_count": 23,
   "metadata": {},
   "outputs": [
    {
     "name": "stderr",
     "output_type": "stream",
     "text": [
      "/Users/shrektan/Library/Caches/pypoetry/virtualenvs/py-scripts-dIaQrCa2-py3.11/lib/python3.11/site-packages/PyPDF2/_cmap.py:142: PdfReadWarning: Advanced encoding /GBK-EUC-H not implemented yet\n",
      "  warnings.warn(\n",
      "/Users/shrektan/Library/Caches/pypoetry/virtualenvs/py-scripts-dIaQrCa2-py3.11/lib/python3.11/site-packages/PyPDF2/_cmap.py:142: PdfReadWarning: Advanced encoding /UniGB-UTF16-H not implemented yet\n",
      "  warnings.warn(\n"
     ]
    },
    {
     "data": {
      "text/plain": [
       "PosixPath('/Users/shrektan/Downloads/out.xlsx')"
      ]
     },
     "execution_count": 23,
     "metadata": {},
     "output_type": "execute_result"
    }
   ],
   "source": [
    "\n",
    "dates = [\n",
    "    (2021, 12),\n",
    "    (2022, 12),\n",
    "    (2023, 3),\n",
    "    (2023, 6),\n",
    "    (2023, 9),\n",
    "    (2023, 10),\n",
    "]\n",
    "out = dict()\n",
    "for d in dates:\n",
    "    year = d[0]\n",
    "    month = d[1]\n",
    "    nm = f\"{year}.{month}\"\n",
    "    path_temp = \"/Users/shrektan/Library/CloudStorage/OneDrive-共享的库-onedrive/安联资管文档/监管和协会资料/组合类产品信息/保险资产管理产品行业报告（{year}年{month}月）-组合行情.pdf\"\n",
    "    out[nm] = read_tbl(pathlib.Path(path_temp.format(year=year, month=month)))\n",
    "\n",
    "wx.write(out, \"~/Downloads/out.xlsx\", overwrite=True, open=True)\n",
    "# out = pl.from_pandas(df)\n",
    "# out.to_csv(\"out.csv\")"
   ]
  }
 ],
 "metadata": {
  "kernelspec": {
   "display_name": "py-scripts-dIaQrCa2-py3.11",
   "language": "python",
   "name": "python3"
  },
  "language_info": {
   "codemirror_mode": {
    "name": "ipython",
    "version": 3
   },
   "file_extension": ".py",
   "mimetype": "text/x-python",
   "name": "python",
   "nbconvert_exporter": "python",
   "pygments_lexer": "ipython3",
   "version": "3.11.6"
  },
  "orig_nbformat": 4
 },
 "nbformat": 4,
 "nbformat_minor": 2
}
